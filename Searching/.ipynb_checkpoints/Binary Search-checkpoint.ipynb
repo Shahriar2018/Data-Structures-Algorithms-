{
 "cells": [
  {
   "cell_type": "code",
   "execution_count": 72,
   "metadata": {},
   "outputs": [],
   "source": [
    "### my own code for sorting using loops\n",
    "def myway(my_list1):\n",
    "    for i in range(len(my_list1)):\n",
    "        for j in range(len(my_list1)):\n",
    "            for k in range(len(my_list1)):\n",
    "                if i is not (len(my_list1)-1):\n",
    "                    if my_list1[j]<my_list1[i]:\n",
    "                        b=my_list1[j]\n",
    "                if i==len(my_list1)-1:\n",
    "                    b=my_list1[j]\n",
    "    my_list1[i]=b\n",
    "    return(my_list1)"
   ]
  },
  {
   "cell_type": "code",
   "execution_count": 73,
   "metadata": {},
   "outputs": [
    {
     "data": {
      "text/plain": [
       "[2, 1, 3, 5, 4, 6, 7, 8, 9, 10]"
      ]
     },
     "execution_count": 73,
     "metadata": {},
     "output_type": "execute_result"
    }
   ],
   "source": [
    "a=[2,1,3,5,4,6,7,8,9,10]\n",
    "sorted=myway(a)\n",
    "sorted"
   ]
  },
  {
   "cell_type": "code",
   "execution_count": 74,
   "metadata": {},
   "outputs": [],
   "source": [
    "# pick any item from sorted list\n",
    "def binary_search(sorted,item):\n",
    "    low=0\n",
    "    high=len(sorted)-1\n",
    "   \n",
    "    \n",
    "    while low<=high:\n",
    "        mid= round((low+high)/2)\n",
    "        guess=sorted[mid]\n",
    "        print(guess)\n",
    "        if guess==item:\n",
    "            return mid\n",
    "        if guess<item: \n",
    "            low=mid+1 \n",
    " # if guessed item is less than the chosen item that means that the item is in the upper section of the list\n",
    "        else:\n",
    "            high=mid-1\n",
    "        \n",
    "        return None\n",
    "\n",
    "            \n",
    "    \n",
    "        \n",
    "            \n",
    "            \n",
    "            \n",
    "            \n",
    "            \n",
    "    \n",
    "        \n",
    "        \n",
    "        \n",
    "        \n",
    "    \n"
   ]
  },
  {
   "cell_type": "code",
   "execution_count": 75,
   "metadata": {},
   "outputs": [
    {
     "name": "stdout",
     "output_type": "stream",
     "text": [
      "4\n",
      "None\n"
     ]
    }
   ],
   "source": [
    "print(binary_search(sorted,7))"
   ]
  },
  {
   "cell_type": "code",
   "execution_count": null,
   "metadata": {},
   "outputs": [],
   "source": []
  },
  {
   "cell_type": "code",
   "execution_count": null,
   "metadata": {},
   "outputs": [],
   "source": []
  }
 ],
 "metadata": {
  "kernelspec": {
   "display_name": "Python 3",
   "language": "python",
   "name": "python3"
  },
  "language_info": {
   "codemirror_mode": {
    "name": "ipython",
    "version": 3
   },
   "file_extension": ".py",
   "mimetype": "text/x-python",
   "name": "python",
   "nbconvert_exporter": "python",
   "pygments_lexer": "ipython3",
   "version": "3.8.5"
  }
 },
 "nbformat": 4,
 "nbformat_minor": 4
}
