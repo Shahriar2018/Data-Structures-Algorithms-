{
 "cells": [
  {
   "cell_type": "code",
   "execution_count": 19,
   "metadata": {},
   "outputs": [],
   "source": [
    "### my own code for sorting using loops\n",
    "def myway(my_list):\n",
    "    temp=0\n",
    "    \n",
    "    for i in range(0,len(my_list)):\n",
    "        j=i+1\n",
    "        \n",
    "        for j in range(len(my_list)):\n",
    "            if my_list[i]<=my_list[j]:\n",
    "                temp=my_list[j]\n",
    "                my_list[j]=my_list[i]\n",
    "                my_list[i]=temp\n",
    "                \n",
    "                \n",
    "               \n",
    "                \n",
    "          \n",
    "           \n",
    "    return(my_list)\n"
   ]
  },
  {
   "cell_type": "code",
   "execution_count": 20,
   "metadata": {},
   "outputs": [
    {
     "data": {
      "text/plain": [
       "[1, 2, 2, 3, 4, 5, 6, 7, 8, 9, 10]"
      ]
     },
     "execution_count": 20,
     "metadata": {},
     "output_type": "execute_result"
    }
   ],
   "source": [
    "a=[2,1,2,3,5,4,6,7,8,9,10]\n",
    "sorted=myway(a)\n",
    "sorted"
   ]
  },
  {
   "cell_type": "code",
   "execution_count": 21,
   "metadata": {},
   "outputs": [],
   "source": [
    "# pick any item from sorted list\n",
    "def binary_search(sorted,item):\n",
    "    low=0\n",
    "    high=len(sorted)-1\n",
    "   \n",
    "    \n",
    "    while low<=high:\n",
    "        mid= round((low+high)/2)\n",
    "        guess=sorted[mid]\n",
    "        if guess==item:\n",
    "            return mid\n",
    "        if guess<item: \n",
    "            low=mid+1 \n",
    " # if guessed item is less than the chosen item that means that the item is in the upper section of the list\n",
    "        else:\n",
    "            high=mid-1\n",
    "    return None\n",
    "\n",
    "            \n",
    "    \n",
    "        \n",
    "            \n",
    "            \n",
    "            \n",
    "            \n",
    "            \n",
    "    \n",
    "        \n",
    "        \n",
    "        \n",
    "        \n",
    "    \n"
   ]
  },
  {
   "cell_type": "code",
   "execution_count": 22,
   "metadata": {},
   "outputs": [
    {
     "name": "stdout",
     "output_type": "stream",
     "text": [
      "7\n"
     ]
    }
   ],
   "source": [
    "print(binary_search(sorted,7))"
   ]
  },
  {
   "cell_type": "code",
   "execution_count": null,
   "metadata": {},
   "outputs": [],
   "source": []
  },
  {
   "cell_type": "code",
   "execution_count": null,
   "metadata": {},
   "outputs": [],
   "source": []
  }
 ],
 "metadata": {
  "kernelspec": {
   "display_name": "Python 3",
   "language": "python",
   "name": "python3"
  },
  "language_info": {
   "codemirror_mode": {
    "name": "ipython",
    "version": 3
   },
   "file_extension": ".py",
   "mimetype": "text/x-python",
   "name": "python",
   "nbconvert_exporter": "python",
   "pygments_lexer": "ipython3",
   "version": "3.8.5"
  }
 },
 "nbformat": 4,
 "nbformat_minor": 4
}
