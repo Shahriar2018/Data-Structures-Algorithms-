{
 "cells": [
  {
   "cell_type": "code",
   "execution_count": 88,
   "metadata": {},
   "outputs": [],
   "source": [
    "a=[9,3,2,90,1,23,89,90,88,45]"
   ]
  },
  {
   "cell_type": "code",
   "execution_count": 89,
   "metadata": {},
   "outputs": [
    {
     "ename": "SyntaxError",
     "evalue": "positional argument follows keyword argument (<ipython-input-89-9ef175dabd27>, line 8)",
     "output_type": "error",
     "traceback": [
      "\u001b[1;36m  File \u001b[1;32m\"<ipython-input-89-9ef175dabd27>\"\u001b[1;36m, line \u001b[1;32m8\u001b[0m\n\u001b[1;33m    for j in range(j=i+1,len(my_list)):\u001b[0m\n\u001b[1;37m                         ^\u001b[0m\n\u001b[1;31mSyntaxError\u001b[0m\u001b[1;31m:\u001b[0m positional argument follows keyword argument\n"
     ]
    }
   ],
   "source": [
    "### my own code for sorting using loops\n",
    "\n",
    "def myway(my_list):\n",
    "    temp=0\n",
    "    \n",
    "    for i in range(0,len(my_list)):\n",
    "        \n",
    "        for j in range(j=i+1,len(my_list)):\n",
    "            if my_list[i]<=my_list[j]:\n",
    "                temp=my_list[j]\n",
    "                my_list[j]=my_list[i]\n",
    "                my_list[i]=temp\n",
    "                \n",
    "                \n",
    "               \n",
    "                \n",
    "          \n",
    "           \n",
    "    return(my_list)\n",
    "                \n",
    "                    "
   ]
  },
  {
   "cell_type": "code",
   "execution_count": null,
   "metadata": {},
   "outputs": [],
   "source": [
    "## sorting using loop\n",
    "\n",
    "print(myway(a))"
   ]
  },
  {
   "cell_type": "code",
   "execution_count": null,
   "metadata": {},
   "outputs": [],
   "source": []
  }
 ],
 "metadata": {
  "kernelspec": {
   "display_name": "Python 3",
   "language": "python",
   "name": "python3"
  },
  "language_info": {
   "codemirror_mode": {
    "name": "ipython",
    "version": 3
   },
   "file_extension": ".py",
   "mimetype": "text/x-python",
   "name": "python",
   "nbconvert_exporter": "python",
   "pygments_lexer": "ipython3",
   "version": "3.8.5"
  }
 },
 "nbformat": 4,
 "nbformat_minor": 4
}
