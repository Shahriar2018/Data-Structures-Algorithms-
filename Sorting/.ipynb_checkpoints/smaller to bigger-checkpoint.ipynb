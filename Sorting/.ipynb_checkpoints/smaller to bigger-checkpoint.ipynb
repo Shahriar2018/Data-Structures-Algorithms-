{
 "cells": [
  {
   "cell_type": "code",
   "execution_count": 82,
   "metadata": {},
   "outputs": [],
   "source": [
    "a=[5,3,2,1,6,9,90,10,8,7,100,70,71,69,43,40,39]"
   ]
  },
  {
   "cell_type": "code",
   "execution_count": 83,
   "metadata": {},
   "outputs": [],
   "source": [
    "## sorting using sort() function\n",
    "def list_sort(my_list):\n",
    "    my_list.sort()\n",
    "    return my_list\n",
    "        \n",
    "    "
   ]
  },
  {
   "cell_type": "code",
   "execution_count": 84,
   "metadata": {},
   "outputs": [
    {
     "data": {
      "text/plain": [
       "[1, 2, 3, 5, 6, 7, 8, 9, 10, 39, 40, 43, 69, 70, 71, 90, 100]"
      ]
     },
     "execution_count": 84,
     "metadata": {},
     "output_type": "execute_result"
    }
   ],
   "source": [
    "list_sort(a)"
   ]
  },
  {
   "cell_type": "code",
   "execution_count": 85,
   "metadata": {},
   "outputs": [],
   "source": [
    "### my own code for sorting using loops\n",
    "\n",
    "def myway(my_list1):\n",
    "    for i in range(len(my_list1)):\n",
    "        for j in range(len(my_list1)):\n",
    "            for k in range(len(my_list1)):\n",
    "                if i is not len(my_list1):\n",
    "                    \n",
    "                if my_list[j]<my_list1[i]:\n",
    "                    b=my_list1[j]\n",
    "    my_list1[i]=b\n",
    "    return(my_list1)\n",
    "                \n",
    "                    "
   ]
  },
  {
   "cell_type": "code",
   "execution_count": 86,
   "metadata": {},
   "outputs": [
    {
     "name": "stdout",
     "output_type": "stream",
     "text": [
      "17\n",
      "[1, 2, 3, 5, 6, 7, 8, 9, 10, 39, 40, 43, 69, 70, 71, 90, 90]\n"
     ]
    }
   ],
   "source": [
    "## sorting using loop\n",
    "print(len(a))\n",
    "print(myway(a))"
   ]
  },
  {
   "cell_type": "code",
   "execution_count": null,
   "metadata": {},
   "outputs": [],
   "source": []
  }
 ],
 "metadata": {
  "kernelspec": {
   "display_name": "Python 3",
   "language": "python",
   "name": "python3"
  },
  "language_info": {
   "codemirror_mode": {
    "name": "ipython",
    "version": 3
   },
   "file_extension": ".py",
   "mimetype": "text/x-python",
   "name": "python",
   "nbconvert_exporter": "python",
   "pygments_lexer": "ipython3",
   "version": "3.8.5"
  }
 },
 "nbformat": 4,
 "nbformat_minor": 4
}
