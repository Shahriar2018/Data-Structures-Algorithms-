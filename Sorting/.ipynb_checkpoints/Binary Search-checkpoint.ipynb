{
 "cells": [
  {
   "cell_type": "code",
   "execution_count": null,
   "metadata": {},
   "outputs": [],
   "source": [
    "### my own code for sorting using loops\n",
    "\n",
    "def myway(my_list1):\n",
    "    for i in range(len(my_list1)):\n",
    "        for j in range(len(my_list1)):\n",
    "            for k in range(len(my_list1)):\n",
    "                if i is not (len(my_list1)-1):\n",
    "                    if my_list[j]<my_list1[i]:\n",
    "                        b=my_list1[j]\n",
    "                if i==len(my_list1)-1:\n",
    "                    b=my_list[j]\n",
    "    my_list1[i]=b\n",
    "    return(my_list1)"
   ]
  },
  {
   "cell_type": "code",
   "execution_count": null,
   "metadata": {},
   "outputs": [],
   "source": [
    "a=myway([7,34,23,56,90,46,21,51,78,69,88])"
   ]
  }
 ],
 "metadata": {
  "kernelspec": {
   "display_name": "Python 3",
   "language": "python",
   "name": "python3"
  },
  "language_info": {
   "codemirror_mode": {
    "name": "ipython",
    "version": 3
   },
   "file_extension": ".py",
   "mimetype": "text/x-python",
   "name": "python",
   "nbconvert_exporter": "python",
   "pygments_lexer": "ipython3",
   "version": "3.8.5"
  }
 },
 "nbformat": 4,
 "nbformat_minor": 4
}
