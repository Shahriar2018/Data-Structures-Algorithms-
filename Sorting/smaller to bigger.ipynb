{
 "cells": [
  {
   "cell_type": "code",
   "execution_count": 139,
   "metadata": {},
   "outputs": [],
   "source": [
    "a=[7,9,1,3,8,30,45]"
   ]
  },
  {
   "cell_type": "code",
   "execution_count": 140,
   "metadata": {},
   "outputs": [],
   "source": [
    "## sorting using sort() function\n",
    "def list_sort(my_list):\n",
    "    my_list.sort()\n",
    "    return my_list\n",
    "        \n",
    "    "
   ]
  },
  {
   "cell_type": "code",
   "execution_count": 141,
   "metadata": {},
   "outputs": [
    {
     "data": {
      "text/plain": [
       "[1, 3, 7, 8, 9, 30, 45]"
      ]
     },
     "execution_count": 141,
     "metadata": {},
     "output_type": "execute_result"
    }
   ],
   "source": [
    "list_sort(a)"
   ]
  },
  {
   "cell_type": "code",
   "execution_count": 142,
   "metadata": {},
   "outputs": [],
   "source": [
    "### my own code for sorting using loops\n",
    "\n",
    "def myway(my_list1):\n",
    "    for i in range(len(my_list1)):\n",
    "        for j in range(len(my_list1)):\n",
    "            for k in range(len(my_list1)):\n",
    "                if i is not (len(my_list1)-1):\n",
    "                    if my_list1[j]<my_list1[i]:\n",
    "                        b=my_list1[j]\n",
    "                if i==len(my_list1)-1:\n",
    "                    b=my_list1[j]\n",
    "    my_list1[i]=b\n",
    "    return(my_list1)\n",
    "                \n",
    "                    "
   ]
  },
  {
   "cell_type": "code",
   "execution_count": 143,
   "metadata": {},
   "outputs": [
    {
     "name": "stdout",
     "output_type": "stream",
     "text": [
      "7\n",
      "[1, 3, 7, 8, 9, 30, 45]\n"
     ]
    }
   ],
   "source": [
    "## sorting using loop\n",
    "print(len(a))\n",
    "print(myway(a))"
   ]
  },
  {
   "cell_type": "code",
   "execution_count": 144,
   "metadata": {},
   "outputs": [
    {
     "data": {
      "text/plain": [
       "True"
      ]
     },
     "execution_count": 144,
     "metadata": {},
     "output_type": "execute_result"
    }
   ],
   "source": [
    "list_sort(a)==myway(a)"
   ]
  }
 ],
 "metadata": {
  "kernelspec": {
   "display_name": "Python 3",
   "language": "python",
   "name": "python3"
  },
  "language_info": {
   "codemirror_mode": {
    "name": "ipython",
    "version": 3
   },
   "file_extension": ".py",
   "mimetype": "text/x-python",
   "name": "python",
   "nbconvert_exporter": "python",
   "pygments_lexer": "ipython3",
   "version": "3.8.5"
  }
 },
 "nbformat": 4,
 "nbformat_minor": 4
}
